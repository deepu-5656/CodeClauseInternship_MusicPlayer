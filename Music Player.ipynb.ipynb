{
 "cells": [
  {
   "cell_type": "code",
   "execution_count": 1,
   "id": "4eb9396d",
   "metadata": {},
   "outputs": [
    {
     "name": "stdout",
     "output_type": "stream",
     "text": [
      "pygame 2.5.2 (SDL 2.28.3, Python 3.10.9)\n",
      "Hello from the pygame community. https://www.pygame.org/contribute.html\n"
     ]
    }
   ],
   "source": [
    "#importing libraries \n",
    "from pygame import mixer\n",
    "from tkinter import *\n",
    "import tkinter.font as font\n",
    "from tkinter import filedialog"
   ]
  },
  {
   "cell_type": "code",
   "execution_count": 2,
   "id": "aadd783e",
   "metadata": {},
   "outputs": [],
   "source": [
    "#add many songs to the playlist\n",
    "def addsongs():\n",
    "    #a list of songs is returned \n",
    "    temp_song=filedialog.askopenfilenames(initialdir=\"Music/\",title=\"Choose a song\", filetypes=((\"mp3 Files\",\"*.mp3\"),))\n",
    "    #loop through everyitem in the list\n",
    "    for s in temp_song:\n",
    "        s=s.replace(\"C:/Users/lenovo/Desktop/DataFlair/Notepad/Music/\",\"\")\n",
    "        songs_list.insert(END,s)\n",
    "        \n",
    "            \n",
    "def deletesong():\n",
    "    curr_song=songs_list.curselection()\n",
    "    songs_list.delete(curr_song[0])\n",
    "    \n",
    "    \n",
    "def Play():\n",
    "    song=songs_list.get(ACTIVE)\n",
    "    song=f'C:/Users/lenovo/Desktop/DataFlair/Notepad/Music/{song}'\n",
    "    mixer.music.load(song)\n",
    "    mixer.music.play()\n",
    "\n",
    "#to pause the song \n",
    "def Pause():\n",
    "    mixer.music.pause()\n",
    "\n",
    "#to stop the  song \n",
    "def Stop():\n",
    "    mixer.music.stop()\n",
    "    songs_list.selection_clear(ACTIVE)\n",
    "\n",
    "#to resume the song\n",
    "\n",
    "def Resume():\n",
    "    mixer.music.unpause()\n",
    "\n",
    "#Function to navigate from the current song\n",
    "def Previous():\n",
    "    #to get the selected song index\n",
    "    previous_one=songs_list.curselection()\n",
    "    #to get the previous song index\n",
    "    previous_one=previous_one[0]-1\n",
    "    #to get the previous song\n",
    "    temp2=songs_list.get(previous_one)\n",
    "    temp2=f'C:/Users/lenovo/Desktop/DataFlair/Notepad/Music/{temp2}'\n",
    "    mixer.music.load(temp2)\n",
    "    mixer.music.play()\n",
    "    songs_list.selection_clear(0,END)\n",
    "    #activate new song\n",
    "    songs_list.activate(previous_one)\n",
    "    #set the next song\n",
    "    songs_list.selection_set(previous_one)\n",
    "\n",
    "def Next():\n",
    "    #to get the selected song index\n",
    "    next_one=songs_list.curselection()\n",
    "    #to get the next song index\n",
    "    next_one=next_one[0]+1\n",
    "    #to get the next song \n",
    "    temp=songs_list.get(next_one)\n",
    "    temp=f'C:/Users/lenovo/Desktop/DataFlair/Notepad/Music/{temp}'\n",
    "    mixer.music.load(temp)\n",
    "    mixer.music.play()\n",
    "    songs_list.selection_clear(0,END)\n",
    "    #activate newsong\n",
    "    songs_list.activate(next_one)\n",
    "     #set the next song\n",
    "    songs_list.selection_set(next_one)\n"
   ]
  },
  {
   "cell_type": "code",
   "execution_count": null,
   "id": "2d0e47ee",
   "metadata": {},
   "outputs": [],
   "source": []
  }
 ],
 "metadata": {
  "kernelspec": {
   "display_name": "Python 3 (ipykernel)",
   "language": "python",
   "name": "python3"
  },
  "language_info": {
   "codemirror_mode": {
    "name": "ipython",
    "version": 3
   },
   "file_extension": ".py",
   "mimetype": "text/x-python",
   "name": "python",
   "nbconvert_exporter": "python",
   "pygments_lexer": "ipython3",
   "version": "3.10.9"
  }
 },
 "nbformat": 4,
 "nbformat_minor": 5
}
